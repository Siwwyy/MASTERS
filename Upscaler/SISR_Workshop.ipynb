{
 "cells": [
  {
   "cell_type": "markdown",
   "id": "dc5f54f1",
   "metadata": {},
   "source": [
    "# SISR Workshop"
   ]
  },
  {
   "cell_type": "code",
   "execution_count": 1,
   "id": "1fefda91",
   "metadata": {},
   "outputs": [],
   "source": [
    "#from Upscaler.Config import Path\n",
    "# from Config.DefaultConfigs import config, configJSONSerializer\n",
    "# from Dataset.Dataset_UE import Dataset_UE\n",
    "# from Utils.Utils import save_model, load_model\n",
    "# from Training_Pipeline import training_pipeline"
   ]
  },
  {
   "cell_type": "code",
   "execution_count": 2,
   "id": "6f875067",
   "metadata": {},
   "outputs": [],
   "source": [
    "# from Upscaler.Config import Path\n",
    "# import Upscaler"
   ]
  },
  {
   "cell_type": "code",
   "execution_count": 7,
   "id": "991b1f99",
   "metadata": {},
   "outputs": [],
   "source": [
    "from Upscaler.Training_Pipeline import training_pipeline"
   ]
  },
  {
   "cell_type": "code",
   "execution_count": 4,
   "id": "0bbcdb3e",
   "metadata": {},
   "outputs": [
    {
     "data": {
      "text/plain": [
       "module"
      ]
     },
     "execution_count": 4,
     "metadata": {},
     "output_type": "execute_result"
    }
   ],
   "source": [
    "type(us)"
   ]
  },
  {
   "cell_type": "code",
   "execution_count": 8,
   "id": "a2dcaffd",
   "metadata": {},
   "outputs": [],
   "source": [
    "# Own imports\n",
    "from Config.Config import Path\n",
    "from Config.DefaultConfigs import config, configJSONSerializer\n",
    "from Dataset.Dataset_UE import Dataset_UE\n",
    "from Utils.Utils import save_model, load_model\n",
    "from Training_Pipeline import training_pipeline\n"
   ]
  },
  {
   "cell_type": "code",
   "execution_count": 9,
   "id": "a818d2c5",
   "metadata": {},
   "outputs": [
    {
     "data": {
      "text/plain": [
       "run_training:                 True \n",
       "load_model:                   False \n",
       "device:                       cuda:0 \n",
       "dtype:                        torch.float32 \n",
       "model_save_path:              F:\\MASTERS\\Upscaler\\Results\\2023-04-06\\Trainings\\Model_NoCheckerboard\\Epochs_600_1_2_VGG600epochs_baseline_noBN \n",
       "model_load_path:              F:\\MASTERS\\Upscaler\\Results\\2023-04-06\\Trainings\\Model_NoCheckerboard\\Epochs_600_1_2_VGG600epochs_baseline_noBN \n",
       "model_inference_path:         F:\\MASTERS\\Upscaler\\Results\\2023-04-06\\Inference\\Model_NoCheckerboard\\Epochs_600_1_2_VGG600epochs_baseline_noBN \n",
       "cached_ds:                    False \n",
       "hyperparameters \n",
       "  ClassName:                  ModelHyperparameters \n",
       "  in_channels:                3 \n",
       "  out_channels:               3 \n",
       "  learning_rate:              0.0001 \n",
       "  batch_size:                 32 \n",
       "  num_epochs:                 600 \n",
       "trainDS \n",
       "  ClassName:                  FullDataset_UE \n",
       "  name:                       FullDataset_UE \n",
       "  ds_root_path:               F:\\MASTERS\\UE4\\DATASET \n",
       "  ue_projects_list:           ['SubwaySequencer_4_26_2', 'Rainforest_Scene_4_26_2'] \n",
       "  crop_coords:                (900, 1028, 500, 628) \n",
       "  transforms:                 None \n",
       "  cached:                     False \n",
       "validDS \n",
       "  ClassName:                  Dataset_UE \n",
       "  name:                       Dataset_UE \n",
       "  ds_root_path:               F:\\MASTERS\\UE4\\DATASET\\InfiltratorDemo_4_26_2\\DumpedBuffers \n",
       "  csv_root_path:              F:\\MASTERS\\UE4\\DATASET\\InfiltratorDemo_4_26_2\\DumpedBuffers\\info_Native.csv \n",
       "  crop_coords:                (900, 1028, 500, 628) \n",
       "  transforms:                 None \n",
       "  cached:                     False \n",
       "trainDL \n",
       "  ClassName:                  DataLoader \n",
       "  dataset:                    None \n",
       "  batch_size:                 32 \n",
       "  shuffle:                    True \n",
       "  drop_last:                  True \n",
       "  pin_memory:                 True \n",
       "validDL \n",
       "  ClassName:                  DataLoader \n",
       "  dataset:                    None \n",
       "  batch_size:                 32 \n",
       "  shuffle:                    True \n",
       "  drop_last:                  True \n",
       "  pin_memory:                 True \n",
       "model \n",
       "  ClassName:                  Model_NoCheckerboard \n",
       "  in_channels:                3 \n",
       "  out_channels:               3 \n",
       "criterion \n",
       "  ClassName:                  Loss_Combined \n",
       "  criterions:                 [Loss_MAE, PerceptualLoss_VGG] \n",
       "  criterionContribution:      [1.0, 2.0] \n",
       "  device:                     cuda:0 \n",
       "optimizer \n",
       "  ClassName:                  AdamW \n",
       "  params:                     None \n",
       "  lr:                         0.0001 "
      ]
     },
     "execution_count": 9,
     "metadata": {},
     "output_type": "execute_result"
    }
   ],
   "source": [
    "config"
   ]
  },
  {
   "cell_type": "code",
   "execution_count": null,
   "id": "983da2f2",
   "metadata": {},
   "outputs": [],
   "source": [
    "#################\n",
    "# Training Time #\n",
    "#################\n",
    "\n",
    "from datetime import datetime\n",
    "\n",
    "start_time = datetime.now()\n",
    "\n",
    "trained_model = training_pipeline(\n",
    "    config, training=config[\"run_training\"], model_load=config[\"load_model\"]\n",
    ")\n",
    "\n",
    "time_elapsed = datetime.now() - start_time\n",
    "\n",
    "print(\"\\nTraining Time elapsed (hh:mm:ss.ms) {}\".format(time_elapsed))\n",
    "configJSONSerializer(config)  # save config to json"
   ]
  },
  {
   "cell_type": "code",
   "execution_count": null,
   "id": "cb1574fc",
   "metadata": {},
   "outputs": [],
   "source": [
    "##################\n",
    "# Inference Time #\n",
    "##################\n",
    "from Inference.Inference import Inference_pipeline\n",
    "\n",
    "# test_ds = Dataset_UE(ds_root_path=Path(\"E:/MASTERS/UE4/DATASET/SubwaySequencer_4_26_2/DumpedBuffers\"),\n",
    "#                     csv_root_path=Path(\"E:/MASTERS/UE4/DATASET/SubwaySequencer_4_26_2/DumpedBuffers/info_Native.csv\"))\n",
    "\n",
    "test_ds = Dataset_UE(\n",
    "    ds_root_path=Path(\"F:/MASTERS/UE4/DATASET/InfiltratorDemo_4_26_2/DumpedBuffers\"),\n",
    "    csv_root_path=Path(\n",
    "        \"F:/MASTERS/UE4/DATASET/InfiltratorDemo_4_26_2/DumpedBuffers/info_Native.csv\"\n",
    "    ),\n",
    ")\n",
    "\n",
    "# loaded_training_state_dict = load_model(Path('E:/MASTERS/Upscaler/Results/2022-12-29/Trainings/Model_Custom/epoch600')/\"model_float32_final.pth\")\n",
    "loaded_final_model_state_dict = load_model(\n",
    "    config[\"model_save_path\"] / \"model_float32_final.pth\"\n",
    ")\n",
    "trained_model.load_state_dict(loaded_final_model_state_dict[\"model_state_dict\"])\n",
    "Inference_pipeline(\n",
    "    config[\"model_inference_path\"] / \"model_final\",\n",
    "    trained_model,\n",
    "    test_ds,\n",
    "    device=config[\"device\"],\n",
    ")\n",
    "\n",
    "loaded_final_best_state_dict = load_model(\n",
    "    config[\"model_save_path\"] / \"model_float32_best.pth\"\n",
    ")\n",
    "trained_model.load_state_dict(loaded_final_best_state_dict[\"model_state_dict\"])\n",
    "Inference_pipeline(\n",
    "    config[\"model_inference_path\"] / \"model_best\",\n",
    "    trained_model,\n",
    "    test_ds,\n",
    "    device=config[\"device\"],\n",
    ")"
   ]
  }
 ],
 "metadata": {
  "kernelspec": {
   "display_name": "Python 3 (ipykernel)",
   "language": "python",
   "name": "python3"
  },
  "language_info": {
   "codemirror_mode": {
    "name": "ipython",
    "version": 3
   },
   "file_extension": ".py",
   "mimetype": "text/x-python",
   "name": "python",
   "nbconvert_exporter": "python",
   "pygments_lexer": "ipython3",
   "version": "3.9.16"
  }
 },
 "nbformat": 4,
 "nbformat_minor": 5
}
